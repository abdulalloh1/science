{
  "cells": [
    {
      "cell_type": "markdown",
      "metadata": {
        "id": "hWpl20aIXuo6"
      },
      "source": [
        "## Вариант 2: Анализ данных и классификация"
      ]
    },
    {
      "cell_type": "code",
      "execution_count": null,
      "metadata": {
        "id": "SkXtGbGtXuo9"
      },
      "outputs": [],
      "source": [
        "#Группа: ISE32R \n",
        "#Ф.И.О.: Шухратов Жавохир Рустам огли"
      ]
    },
    {
      "cell_type": "markdown",
      "metadata": {
        "id": "dcR9keIcXuo_"
      },
      "source": [
        "### Задание 1 (8 баллов):"
      ]
    },
    {
      "cell_type": "markdown",
      "metadata": {
        "id": "Ixzsk7sfXupA"
      },
      "source": [
        "Загрузите данные под названием «Classifikatsiya» и распечатайте общую информацию о данных, количестве элементов каждого класса и визуализируйте их графически.  "
      ]
    },
    {
      "cell_type": "code",
      "execution_count": null,
      "metadata": {},
      "outputs": [],
      "source": [
        "# ваш код программы\n",
        "import pandas as pd\n",
        "\n",
        "data_path = 'Classifikatsiya_wine.csv'\n",
        "data = pd.read_csv(data_path)\n",
        "\n",
        "data_info = data.info()\n",
        "data_info\n"
      ]
    },
    {
      "cell_type": "code",
      "execution_count": null,
      "metadata": {},
      "outputs": [],
      "source": [
        "import matplotlib.pyplot as plt\n",
        "\n",
        "class_counts = data['Class'].value_counts()\n",
        "\n",
        "plt.figure(figsize=(10, 6))\n",
        "class_counts.plot(kind='bar', color='skyblue')\n",
        "plt.title('Распределение элементов по классам')\n",
        "plt.xlabel('Класс')\n",
        "plt.ylabel('Количество элементов')\n",
        "plt.xticks(rotation=0)\n",
        "plt.grid(axis='y', linestyle='--', alpha=0.7)\n",
        "plt.show()\n",
        "\n",
        "class_counts"
      ]
    },
    {
      "cell_type": "markdown",
      "metadata": {
        "id": "US3rxXeXXupB"
      },
      "source": [
        "### Задание 2 (10 баллов):"
      ]
    },
    {
      "cell_type": "markdown",
      "metadata": {
        "id": "fvP40RcRXupC"
      },
      "source": [
        "a) Постройте диаграммы Ящик с усами (Box Plot) для каждого столбца.\n",
        "\n",
        "b) Постройте график значений для каждого входящего значения и напишите свое заключение.\n"
      ]
    },
    {
      "cell_type": "code",
      "execution_count": null,
      "metadata": {
        "id": "Kl8WNQ1bXupD"
      },
      "outputs": [],
      "source": [
        "# ваш код программы\n",
        "num_columns = data.select_dtypes(include=['float64', 'int64']).columns  # Выбор числовых столбцов\n",
        "\n",
        "plt.figure(figsize=(15, 10))\n",
        "for i, col in enumerate(num_columns, 1):\n",
        "    plt.subplot(4, 4, i)\n",
        "    data.boxplot(column=col, grid=False, notch=True, color='blue')\n",
        "    plt.title(col)\n",
        "\n",
        "plt.tight_layout()\n",
        "plt.show()"
      ]
    },
    {
      "cell_type": "markdown",
      "metadata": {},
      "source": [
        "import seaborn as sns\n",
        "\n",
        "# Выбор ключевых столбцов для визуализации\n",
        "key_columns = ['Alcohol', 'Malic acid', 'Total phenols', 'Color intensity', 'Hue']\n",
        "\n",
        "# Создание графиков рассеивания для выбранных столбцов по классам\n",
        "plt.figure(figsize=(15, 10))\n",
        "for i, col in enumerate(key_columns, 1):\n",
        "    plt.subplot(2, 3, i)\n",
        "    sns.scatterplot(x=data[col], y=data['Class'], hue=data['Class'], palette='viridis')\n",
        "    plt.title(f'Scatter plot of {col} by Class')\n",
        "    plt.xlabel(col)\n",
        "    plt.ylabel('Class')\n",
        "\n",
        "plt.tight_layout()\n",
        "plt.show()\n"
      ]
    },
    {
      "cell_type": "markdown",
      "metadata": {
        "id": "wO6rjGqJXupE"
      },
      "source": [
        "### Задание 3 (10 баллов):"
      ]
    },
    {
      "cell_type": "markdown",
      "metadata": {
        "id": "7KFZ-e8pXupE"
      },
      "source": [
        "Если имена классов заданы словами, приведите их к виду, необходимому для классификации, и опишите таблицу матрицы рассеяния для данных. "
      ]
    },
    {
      "cell_type": "code",
      "execution_count": null,
      "metadata": {
        "id": "DglpsRO8XupF"
      },
      "outputs": [],
      "source": [
        "# ваш код программы\n",
        "from sklearn.preprocessing import LabelEncoder\n",
        "\n",
        "label_encoder = LabelEncoder()\n",
        "\n",
        "data['Encoded Class'] = label_encoder.fit_transform(data['Class'])\n",
        "\n",
        "encoded_classes = data[['Class', 'Encoded Class']].drop_duplicates()\n",
        "\n",
        "scatter_matrix_data = data[num_columns.tolist() + ['Encoded Class']]\n",
        "\n",
        "sns.pairplot(scatter_matrix_data, hue='Encoded Class', palette='viridis', plot_kws={'alpha': 0.5})\n",
        "plt.show()\n",
        "\n",
        "encoded_classes, scatter_matrix_data.describe()"
      ]
    },
    {
      "cell_type": "markdown",
      "metadata": {
        "id": "meuJJjj0XupG"
      },
      "source": [
        "### Задание 4 (10 баллов):"
      ]
    },
    {
      "cell_type": "markdown",
      "metadata": {
        "id": "zxurhZlFXupG"
      },
      "source": [
        "Разделите данные на наборы данных для обучения и тестирования и упростите значения с помощью min-max scaler.  "
      ]
    },
    {
      "cell_type": "code",
      "execution_count": null,
      "metadata": {
        "id": "1L3exRzkXupG"
      },
      "outputs": [],
      "source": [
        "# ваш код программы\n",
        "from sklearn.model_selection import train_test_split\n",
        "from sklearn.preprocessing import MinMaxScaler\n",
        "\n",
        "X = data.drop(['Class', 'Encoded Class'], axis=1)\n",
        "y = data['Encoded Class']\n",
        "\n",
        "X_train, X_test, y_train, y_test = train_test_split(X, y, test_size=0.3, random_state=42)\n",
        "\n",
        "scaler = MinMaxScaler()\n",
        "\n",
        "X_train_scaled = scaler.fit_transform(X_train)\n",
        "X_test_scaled = scaler.transform(X_test)\n",
        "\n",
        "X_train_scaled_min, X_train_scaled_max = X_train_scaled.min(), X_train_scaled.max()\n",
        "\n",
        "X_train_scaled_min, X_train_scaled_max\n"
      ]
    },
    {
      "cell_type": "markdown",
      "metadata": {
        "id": "AaiWhnNlXupH"
      },
      "source": [
        "### Задание 5 (12 баллов): "
      ]
    },
    {
      "cell_type": "markdown",
      "metadata": {
        "id": "K5d9LTFNXupH"
      },
      "source": [
        "a) Классифицируйте набор данных с использованием алгоритмов логистической регрессии, дерева решений, K-ближайших соседей, гауссовского наивного байеса. \n",
        "\n",
        "b) Выведите точность обучения и точность тестирования для каждого алгоритма. Определите алгоритм, который достигает наивысшего результата в классификации.\n"
      ]
    },
    {
      "cell_type": "code",
      "execution_count": null,
      "metadata": {
        "id": "WQy8cpcdXupI"
      },
      "outputs": [],
      "source": [
        "# ваш код программы\n",
        "from sklearn.linear_model import LogisticRegression\n",
        "from sklearn.tree import DecisionTreeClassifier\n",
        "from sklearn.neighbors import KNeighborsClassifier\n",
        "from sklearn.naive_bayes import GaussianNB\n",
        "from sklearn.metrics import accuracy_score\n",
        "\n",
        "log_reg = LogisticRegression(max_iter=1000)\n",
        "tree = DecisionTreeClassifier()\n",
        "knn = KNeighborsClassifier()\n",
        "gaussian_nb = GaussianNB()\n",
        "\n",
        "models = {\n",
        "    \"Logistic Regression\": log_reg,\n",
        "    \"Decision Tree\": tree,\n",
        "    \"K-Nearest Neighbors\": knn,\n",
        "    \"Gaussian Naive Bayes\": gaussian_nb\n",
        "}\n",
        "\n",
        "results = {}\n",
        "for name, model in models.items():\n",
        "\n",
        "    model.fit(X_train_scaled, y_train)\n",
        "    \n",
        "    train_accuracy = accuracy_score(y_train, model.predict(X_train_scaled))\n",
        "    \n",
        "    test_accuracy = accuracy_score(y_test, model.predict(X_test_scaled))\n",
        "    \n",
        "    results[name] = {\"Training Accuracy\": train_accuracy, \"Testing Accuracy\": test_accuracy}\n",
        "\n",
        "results\n"
      ]
    }
  ],
  "metadata": {
    "colab": {
      "collapsed_sections": [],
      "name": "Variant 2.ipynb",
      "provenance": []
    },
    "kernelspec": {
      "display_name": "Python 3 (ipykernel)",
      "language": "python",
      "name": "python3"
    },
    "language_info": {
      "codemirror_mode": {
        "name": "ipython",
        "version": 3
      },
      "file_extension": ".py",
      "mimetype": "text/x-python",
      "name": "python",
      "nbconvert_exporter": "python",
      "pygments_lexer": "ipython3",
      "version": "3.10.7"
    }
  },
  "nbformat": 4,
  "nbformat_minor": 0
}
